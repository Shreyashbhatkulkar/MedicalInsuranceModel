{
 "cells": [
  {
   "cell_type": "code",
   "execution_count": 1,
   "metadata": {},
   "outputs": [],
   "source": [
    "import pickle\n",
    "with open('Insurance.pkl','rb') as f:\n",
    "    model = pickle.load(f)"
   ]
  },
  {
   "cell_type": "code",
   "execution_count": 3,
   "metadata": {},
   "outputs": [],
   "source": [
    "import numpy as np"
   ]
  },
  {
   "cell_type": "code",
   "execution_count": 4,
   "metadata": {},
   "outputs": [
    {
     "name": "stdout",
     "output_type": "stream",
     "text": [
      "75970.37623273567\n"
     ]
    },
    {
     "name": "stderr",
     "output_type": "stream",
     "text": [
      "C:\\Users\\shrey\\AppData\\Local\\Packages\\PythonSoftwareFoundation.Python.3.11_qbz5n2kfra8p0\\LocalCache\\local-packages\\Python311\\site-packages\\sklearn\\base.py:493: UserWarning: X does not have valid feature names, but LinearRegression was fitted with feature names\n",
      "  warnings.warn(\n"
     ]
    }
   ],
   "source": [
    "age = input('Enter your age: ')\n",
    "age = int(age)\n",
    "sex = input('Enter your sex: ')\n",
    "sex = int(sex)\n",
    "bmi = input('Enter your bmi: ')\n",
    "bmi = int(bmi)\n",
    "children = input('Enter your children: ')\n",
    "children = int(children)\n",
    "smoker = input('Enter your smoker: ')\n",
    "smoker = int(smoker)\n",
    "region_northeast = int(input())\n",
    "region_northwest = int(input())\n",
    "region_southeast = int(input())\n",
    "region_southwest = int(input())\n",
    "\n",
    "test_array = np.array([age,sex,bmi,children,smoker,region_northeast,region_northwest,region_southeast,region_southwest],ndmin=2)\n",
    "test_array\n",
    "\n",
    "pred_val = model.predict(test_array)[0]\n",
    "print(pred_val)"
   ]
  },
  {
   "cell_type": "code",
   "execution_count": null,
   "metadata": {},
   "outputs": [],
   "source": []
  }
 ],
 "metadata": {
  "kernelspec": {
   "display_name": "Python 3",
   "language": "python",
   "name": "python3"
  },
  "language_info": {
   "codemirror_mode": {
    "name": "ipython",
    "version": 3
   },
   "file_extension": ".py",
   "mimetype": "text/x-python",
   "name": "python",
   "nbconvert_exporter": "python",
   "pygments_lexer": "ipython3",
   "version": "3.11.9"
  }
 },
 "nbformat": 4,
 "nbformat_minor": 2
}
